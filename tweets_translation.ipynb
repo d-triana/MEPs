{
  "cells": [
    {
      "cell_type": "markdown",
      "metadata": {
        "id": "view-in-github",
        "colab_type": "text"
      },
      "source": [
        "<a href=\"https://colab.research.google.com/github/d-triana/MEPs/blob/main/tweets_translation.ipynb\" target=\"_parent\"><img src=\"https://colab.research.google.com/assets/colab-badge.svg\" alt=\"Open In Colab\"/></a>"
      ]
    },
    {
      "cell_type": "code",
      "execution_count": null,
      "metadata": {
        "collapsed": true,
        "pycharm": {
          "name": "#%%\n"
        },
        "id": "FUgsEmtomjBP"
      },
      "outputs": [],
      "source": [
        "\"\"\"\n",
        "Created on Wed Jul 27 11:50:55 2022\n",
        "@author: Daniel Triana\n",
        "\"\"\""
      ]
    },
    {
      "cell_type": "markdown",
      "source": [
        "# Automated translation using Python\n",
        "This is the .ipynb version of the Python script for automated translation. <p>\n",
        "This script is built upon the Deep-Translator tool created by: Nidhal Baccouri \n",
        "https://pypi.org/project/deep-translator/"
      ],
      "metadata": {
        "id": "Jh3HjSAnoJpi"
      }
    },
    {
      "cell_type": "code",
      "source": [
        "# %% Import relevant packages\n",
        "from typing import Union, Any\n",
        "import pandas as pd\n",
        "from pandas import DataFrame, Series\n",
        "from pandas.core.generic import NDFrame\n",
        "from pandas.io.parsers import TextFileReader\n",
        "import numpy as np\n",
        "import matplotlib.pyplot as plt\n",
        "import pyreadr\n",
        "import deep_translator\n",
        "import deep_translator.base\n",
        "import deep_translator.exceptions\n",
        "from deep_translator import GoogleTranslator, single_detection, batch_detection\n",
        "import requests\n",
        "import time"
      ],
      "metadata": {
        "id": "UE8ZGzCPpgQj"
      },
      "execution_count": null,
      "outputs": []
    },
    {
      "cell_type": "code",
      "execution_count": null,
      "outputs": [],
      "source": [
        "\n",
        "# %%\n",
        "\n",
        "# Load the DataBase\n",
        "tweets_text: Union[Union[TextFileReader, DataFrame], Any] = pd.read_csv(r'tweets_text.csv', low_memory=False)\n",
        "tweets_text[['true_author_id', 'id', 'conversation_id', 'commission_dummy', 'party_id', 'in_reply_to_user_id'\n",
        "             ]] = tweets_text[['true_author_id', 'id', 'conversation_id', 'commission_dummy', 'party_id',\n",
        "                               'in_reply_to_user_id']].astype(str)\n",
        "\n",
        "# File with the international language codes for reference\n",
        "lang_codes = pd.read_csv(r'language_codes.csv')\n",
        "\n",
        "# Create object to know how many tweets per language are in the DataBase\n",
        "tweets_per_language = (tweets_text['lang'].value_counts())\n",
        "\n",
        "# %%\n",
        "#german = tweets_text.query('lang ==\"de\"')\n",
        "german_2 = tweets_text.query('lang ==\"de\"').iloc[4240:6000]\n",
        "\n",
        "\n",
        "# %%\n",
        "\n",
        "# Generate empty dataframe with the columns \"text_original\" & \"text_translated\"\n",
        "df_Transl_2 = pd.DataFrame(columns=['text', 'text_translated'])\n",
        "\n",
        "# for loop, translation process\n",
        "print('Beginning translation...')\n",
        "start = time.time()\n",
        "for i, tweet in enumerate(german_2.text):\n",
        "    if str(tweet) == 'nan':\n",
        "        print('Reading task completed')\n",
        "        break\n",
        "    translation = GoogleTranslator().translate(text=tweet)\n",
        "    a = 1\n",
        "\n",
        "    # In case of no success, retries up to six times\n",
        "    while tweet == translation:\n",
        "        print('Could not translate the row ' + str(i) + ', retry ' + str(a))\n",
        "        translator = GoogleTranslator(service_urls=[\n",
        "            'translate.google.com',\n",
        "            'translate.google.de',\n",
        "            'translate.google.co.uk',\n",
        "            'translate.google.co.kr',\n",
        "            'translate.google.com.ec',\n",
        "            'translate.google.com.mx',\n",
        "            'translate.google.com.uy',\n",
        "            'translate.google.cn'\n",
        "        ])\n",
        "        translation = GoogleTranslator().translate(text=tweet)\n",
        "        a += 1\n",
        "        if a > 6: break\n",
        "\n",
        "    # Check if the text was translated\n",
        "    if tweet == translation:\n",
        "        print('Translation attempted on: ' + str(tweet) + ' Returned: ' + str(translation))\n",
        "    print(i)\n",
        "    # Populate Data Frame with the original text and the translation\n",
        "    df_Transl_2.loc[i] = [tweet, translation]\n",
        "print('... Task completed.')\n",
        "end = time.time()\n",
        "print(\"The time of execution is: \", end-start)\n"
      ],
      "metadata": {
        "pycharm": {
          "name": "#%%\n"
        },
        "id": "QO1QEl1kmjBR"
      }
    },
    {
      "cell_type": "code",
      "execution_count": null,
      "outputs": [],
      "source": [
        "# Merge the DataFrames in order to have the translations in the same DataFrame\n",
        "german_2 = pd.merge(german_2, df_Transl_2, on='text')"
      ],
      "metadata": {
        "pycharm": {
          "name": "#%%\n"
        },
        "id": "NiyNdmQkmjBT"
      }
    },
    {
      "cell_type": "code",
      "execution_count": null,
      "outputs": [],
      "source": [
        "\n",
        "# Change the order of the DF columns for ease of comparison\n",
        "german_2 = german_2[['true_author_id', 'name', 'username', 'day', 'month', 'year', 'dob', 'full_name', 'sex', 'country',\n",
        "             'nat_party', 'nat_party_abb', 'eu_party_group', 'eu_party_abbr', 'commission_dummy', 'party_id',\n",
        "             'engparty', 'party', 'eu_position', 'lrgen', 'lrecon', 'galtan', 'eu_eu_position', 'eu_lrgen',\n",
        "             'eu_lrecon', 'eu_galtan', 'lang', 'text', 'text_translated', 'id', 'public_metrics.retweet_count',\n",
        "             'public_metrics.reply_count', 'public_metrics.like_count', 'public_metrics.quote_count',\n",
        "             'conversation_id', 'source', 'in_reply_to_user_id', 'geo.place_id', 'geo.coordinates.type',\n",
        "             'created_at'\n",
        "             ]]"
      ],
      "metadata": {
        "pycharm": {
          "name": "#%%\n"
        },
        "id": "TegLRKS3mjBU"
      }
    },
    {
      "cell_type": "code",
      "execution_count": null,
      "outputs": [],
      "source": [
        "\n",
        "# Save file\n",
        "german_2.to_csv('german_2_translated.csv', index=False, encoding='utf-8-sig')"
      ],
      "metadata": {
        "pycharm": {
          "name": "#%%\n"
        },
        "id": "Bq6v5T-gmjBU"
      }
    }
  ],
  "metadata": {
    "kernelspec": {
      "display_name": "Python 3",
      "language": "python",
      "name": "python3"
    },
    "language_info": {
      "codemirror_mode": {
        "name": "ipython",
        "version": 2
      },
      "file_extension": ".py",
      "mimetype": "text/x-python",
      "name": "python",
      "nbconvert_exporter": "python",
      "pygments_lexer": "ipython2",
      "version": "2.7.6"
    },
    "colab": {
      "name": "tweets_translation.ipynb",
      "provenance": [],
      "include_colab_link": true
    }
  },
  "nbformat": 4,
  "nbformat_minor": 0
}